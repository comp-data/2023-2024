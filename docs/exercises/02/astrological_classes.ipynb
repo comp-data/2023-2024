{
 "cells": [
  {
   "cell_type": "markdown",
   "metadata": {},
   "source": [
    "# Astrological Classes\n",
    "\n",
    "## Exercise 1: Zodiac Sign Class\n",
    "\n",
    "**Objective**: Create a basic class to represent a Zodiac sign.\n",
    "\n",
    "**Description**: Start by creating a class named `ZodiacSign`. This class should have an initializer (`__init__`) that takes two parameters: `name` and `element`, where name is the `name` of the zodiac sign (e.g., Aries, Taurus, etc.) and `element` is the element associated with the sign (e.g., Fire, Earth, Air, Water). Include a method named `describe` that prints out a description of the sign, incorporating both the name and the element.\n",
    "\n",
    "**Sample Output**: Aries is a Fire sign\n",
    "\n",
    "## Exercise 2: Compatibility Method\n",
    "\n",
    "**Objective**: Enhance the `ZodiacSign` class by adding compatibility information.\n",
    "\n",
    "**Description**: Extend the `ZodiacSign` class by adding a method named `is_compatible_with`. This method should take another `ZodiacSign` object as a parameter and return `True` if the signs are compatible based on their elements (Fire with Air and itself, Earth with itself and Water etc) and False otherwise.\n",
    "\n",
    "**Sample Usage**:\n",
    "```python\n",
    "aries = ZodiacSign(\"Aries\", \"Fire\")\n",
    "gemini = ZodiacSign(\"Gemini\", \"Air\")\n",
    "print(aries.is_compatible_with(gemini))  # Expected: True\n",
    "```\n",
    "\n",
    "## Exercise 3: Zodiac Circle Class\n",
    "\n",
    "**Objective**: Implement a class that represents the entire zodiac circle.\n",
    "\n",
    "**Description**: Create a class named `ZodiacCircle`. This class should hold a collection of `ZodiacSign` objects, representing all 12 signs of the zodiac. Implement methods to add a sign to the circle, find a sign by name, and determine the compatibility between any two signs within the circle.\n",
    "\n",
    "**Sample Methods**:\n",
    "\n",
    "- `add_sign(zodiac_sign)`: Adds a `ZodiacSign` object to the circle.\n",
    "- `find_sign(name)`: Returns the `ZodiacSign` object with the given name.\n",
    "- `check_compatibility(sign_name1, sign_name2)`: Returns `True` if the signs are compatible, based on the is_compatible_with method of `ZodiacSign`.\n",
    "\n",
    "## Exercise 4: UML Diagram of ZodiacSign and ZodiacCircle Classes\n",
    "\n",
    "**Objective**: Create a UML diagram to represent the structure and relationships of the `ZodiacSign` and `ZodiacCircle` classes.\n",
    "\n",
    "\n",
    "\n",
    "\n",
    "\n",
    "\n",
    "\n",
    "\n",
    "\n",
    "\n",
    "\n",
    "\n",
    "\n"
   ]
  }
 ],
 "metadata": {
  "kernelspec": {
   "display_name": "Python 3.10.3 64-bit",
   "language": "python",
   "name": "python3"
  },
  "language_info": {
   "name": "python",
   "version": "3.10.3"
  },
  "orig_nbformat": 4,
  "vscode": {
   "interpreter": {
    "hash": "26de051ba29f2982a8de78e945f0abaf191376122a1563185a90213a26c5da77"
   }
  }
 },
 "nbformat": 4,
 "nbformat_minor": 2
}
