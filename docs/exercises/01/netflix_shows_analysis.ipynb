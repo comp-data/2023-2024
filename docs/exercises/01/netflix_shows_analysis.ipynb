{
 "cells": [
  {
   "cell_type": "markdown",
   "metadata": {},
   "source": [
    "# Data analysis on Netflix shows\n",
    "\n",
    "## The dataset\n",
    "\n",
    "The dataset [netflix_titles.csv](docs/exercises/01/netflix_title.csv) contains a list of the tv shows and movies available on Netflix as of 2021 (the dataset is under a [CC0 Public Domain license](https://creativecommons.org/publicdomain/zero/1.0/) and had been downloaded using [kaggle APIs](https://www.kaggle.com/shivamb/netflix-shows)).\n",
    "\n",
    "## Contents\n",
    "\n",
    "The CSV file contains the following columns:\n",
    "\n",
    "* **show_id**: Unique ID for every movie/tv-show\n",
    "* **type**: Type of the show - \"Movie\" or \"TV Show\"\n",
    "* **title**: Title of the show\n",
    "* **director**: Director of the movie\n",
    "* **cast**: Actors involved in the show\n",
    "* **country**: Country where the show was produced\n",
    "* **date_added**: Date it was added on Netflix\n",
    "* **release_year**: Actual Release year of the show\n",
    "* **rating**: TV Rating of the show (used for evaluating the content and reporting the suitability of television programs for children, teenagers, or adults)\n",
    "* **duration**: Total Duration - in minutes or number of seasons\n",
    "* **listed_in**: The category(s) of the show (e.g., Comedies, Independent Movies, Romantic Movies, etc.)\n",
    "* **description**: A description of the show\n",
    "\n",
    "## Project initialization\n",
    "\n",
    "Init your project as follow:\n",
    "\n",
    "* create a directory and name it `netflix_analysis`\n",
    "* create a python script inside `netflix_analysis/` and name it **main.py**\n",
    "* create a python script inside `netflix_analysis/` and name it **util.py**\n",
    "* create a directory inside `netflix_analysis/` and name it `data`\n",
    "* download (if you have not done it yet) the netflix_titles.csv dataset and put it inside the `netflix_analysis/data` directory.\n",
    "\n",
    "## 1st Exercise – read the dataset\n",
    "\n",
    "Open the netflix_analysis/util.py file and define the following functions:\n",
    "\n",
    "1. a) `csv_to_matrix()` which takes the PATH of a CSV file `f_path` and returns a matrix (list of lists) representing the CSV contents without including the first row of the CSV (the header).\n",
    "2. b) `csv_to_list_of_dict()` which takes the PATH of a CSV file `f_path` and returns a list of dictionaries which represents the CSV contents, such that each element of the list (i.e. a dictionary) represents a row of the CSV. The pairs key-value of the dictionary represents respectively the name of the column and the corresponding value in the cell.\n",
    "\n",
    "**Example**: `[ {\"name\": \"James\", \"age\": 25}, {\"name\":\"David\", \"age\": 28} ]`\n",
    "\n",
    "**Hint**: the function `csv.DictReader(csv_file)` reads a CSV file and returns a DictReader object, each element of the new object (i.e., a row) is represented as dictionary\n",
    "\n",
    "## 2nd Exercise - statistics on Italian shows\n",
    "\n",
    "Open the `netflix_analysis/main.py` file and write a portion of code which prints the following informations:\n",
    "\n",
    "* a) The titles of all the Netflix shows produced in Italy.\n",
    "* b) The total number of Italian movies and the total number of Italian tv shows.\n",
    "* c) The number of Italian shows for each different year of their release\n",
    "\n",
    "## 3rd Exercise - statistics on Italian shows\n",
    "\n",
    "Open the `netflix_analysis/main.py` file and write a portion of code which:\n",
    "\n",
    "* a) Detects the director with the higher number of shows and prints his name\n",
    "* b) Creates an index that contains all the countries, and for each country the number of shows classified according to the genere of the show (e.g., Comedies, Documentaries, etc)\n",
    "\n",
    "\n"
   ]
  }
 ],
 "metadata": {
  "kernelspec": {
   "display_name": "Python 3.10.3 64-bit",
   "language": "python",
   "name": "python3"
  },
  "language_info": {
   "name": "python",
   "version": "3.10.3"
  },
  "orig_nbformat": 4,
  "vscode": {
   "interpreter": {
    "hash": "26de051ba29f2982a8de78e945f0abaf191376122a1563185a90213a26c5da77"
   }
  }
 },
 "nbformat": 4,
 "nbformat_minor": 2
}
